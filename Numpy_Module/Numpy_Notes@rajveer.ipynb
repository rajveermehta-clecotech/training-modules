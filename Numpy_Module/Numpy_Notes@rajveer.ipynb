{
 "cells": [
  {
   "cell_type": "markdown",
   "id": "0a702151",
   "metadata": {},
   "source": [
    "<h1 align=\"center\">Numpy in python</h1> \n",
    "\n",
    "NumPy is a Python library used for working with arrays and primarily for numerical and scientific computing. It also has functions for working in domain of linear algebra, fourier transform, and matrices.\n",
    "\n",
    "### Why Use NumPy?\n",
    "1. NumPy aims to provide an array object that is up to 50x faster than traditional Python lists.\n",
    "2. The array object in NumPy is called ndarray, it provides a lot of supporting functions that make working with ndarray very easy.\n",
    "\n",
    "### Why is NumPy Faster Than Lists?\n",
    "NumPy arrays are stored at one continuous place in memory unlike lists, so processes can access and manipulate them very efficiently.\n",
    "\n",
    "### Which Language is NumPy written in?\n",
    "NumPy is a Python library and is written partially in Python, but most of the parts that require fast computation are written in C or C++.\n",
    "\n"
   ]
  },
  {
   "cell_type": "code",
   "execution_count": 1,
   "id": "2b719f38",
   "metadata": {},
   "outputs": [
    {
     "name": "stdout",
     "output_type": "stream",
     "text": [
      "Defaulting to user installation because normal site-packages is not writeable\n",
      "Requirement already satisfied: numpy in /usr/local/lib/python3.6/dist-packages (1.19.5)\n",
      "Note: you may need to restart the kernel to use updated packages.\n"
     ]
    }
   ],
   "source": [
    "pip install numpy"
   ]
  },
  {
   "cell_type": "code",
   "execution_count": 2,
   "id": "b663c46e",
   "metadata": {},
   "outputs": [
    {
     "data": {
      "text/plain": [
       "array([1, 2, 3, 4, 5])"
      ]
     },
     "execution_count": 2,
     "metadata": {},
     "output_type": "execute_result"
    }
   ],
   "source": [
    "import numpy as np\n",
    "\n",
    "# 1d array\n",
    "\n",
    "arr=[1,2,3,4,5]\n",
    "\n",
    "np.array(arr)"
   ]
  },
  {
   "cell_type": "code",
   "execution_count": 3,
   "id": "33fa928e",
   "metadata": {},
   "outputs": [
    {
     "data": {
      "text/plain": [
       "array([[1, 2, 3],\n",
       "       [4, 5, 6],\n",
       "       [7, 8, 9]])"
      ]
     },
     "execution_count": 3,
     "metadata": {},
     "output_type": "execute_result"
    }
   ],
   "source": [
    "# 2d array \n",
    "\n",
    "my_mat=[[1,2,3],[4,5,6],[7,8,9]]\n",
    "\n",
    "np.array(my_mat)"
   ]
  },
  {
   "cell_type": "markdown",
   "id": "56a13449",
   "metadata": {},
   "source": [
    "<h1 align=\"center\">Below is some numpy methods for arrays</h1> "
   ]
  },
  {
   "cell_type": "markdown",
   "id": "352a32b6",
   "metadata": {},
   "source": [
    "### 1. arange() - to generate array just like range function"
   ]
  },
  {
   "cell_type": "code",
   "execution_count": 4,
   "id": "16a5e19a",
   "metadata": {},
   "outputs": [
    {
     "data": {
      "text/plain": [
       "array([ 0,  1,  2,  3,  4,  5,  6,  7,  8,  9, 10])"
      ]
     },
     "execution_count": 4,
     "metadata": {},
     "output_type": "execute_result"
    }
   ],
   "source": [
    "np.arange(0,11)"
   ]
  },
  {
   "cell_type": "code",
   "execution_count": 5,
   "id": "d359ca84",
   "metadata": {},
   "outputs": [
    {
     "data": {
      "text/plain": [
       "array([ 0,  2,  4,  6,  8, 10])"
      ]
     },
     "execution_count": 5,
     "metadata": {},
     "output_type": "execute_result"
    }
   ],
   "source": [
    "np.arange(0,11,2) # adding step size"
   ]
  },
  {
   "cell_type": "markdown",
   "id": "637c9d61",
   "metadata": {},
   "source": [
    "### 2. zeros() - to generate array with zeros"
   ]
  },
  {
   "cell_type": "code",
   "execution_count": 6,
   "id": "7ec9439c",
   "metadata": {},
   "outputs": [
    {
     "data": {
      "text/plain": [
       "array([0., 0., 0., 0., 0.])"
      ]
     },
     "execution_count": 6,
     "metadata": {},
     "output_type": "execute_result"
    }
   ],
   "source": [
    "np.zeros(5)"
   ]
  },
  {
   "cell_type": "code",
   "execution_count": 7,
   "id": "afa43e15",
   "metadata": {},
   "outputs": [
    {
     "data": {
      "text/plain": [
       "array([[0., 0., 0., 0., 0.],\n",
       "       [0., 0., 0., 0., 0.],\n",
       "       [0., 0., 0., 0., 0.],\n",
       "       [0., 0., 0., 0., 0.],\n",
       "       [0., 0., 0., 0., 0.]])"
      ]
     },
     "execution_count": 7,
     "metadata": {},
     "output_type": "execute_result"
    }
   ],
   "source": [
    "np.zeros((5,5)) # zeroes 2-d matrix"
   ]
  },
  {
   "cell_type": "markdown",
   "id": "eb9c0f4c",
   "metadata": {},
   "source": [
    "### 3. ones() - to generate array with ones"
   ]
  },
  {
   "cell_type": "code",
   "execution_count": 8,
   "id": "2a582dde",
   "metadata": {},
   "outputs": [
    {
     "data": {
      "text/plain": [
       "array([1., 1., 1., 1., 1.])"
      ]
     },
     "execution_count": 8,
     "metadata": {},
     "output_type": "execute_result"
    }
   ],
   "source": [
    "np.ones(5)"
   ]
  },
  {
   "cell_type": "markdown",
   "id": "cadbbf1c",
   "metadata": {},
   "source": [
    "### 4. eye() method - to make Identity matrix."
   ]
  },
  {
   "cell_type": "code",
   "execution_count": 9,
   "id": "59fa8463",
   "metadata": {},
   "outputs": [
    {
     "data": {
      "text/plain": [
       "array([[1., 0., 0., 0.],\n",
       "       [0., 1., 0., 0.],\n",
       "       [0., 0., 1., 0.],\n",
       "       [0., 0., 0., 1.]])"
      ]
     },
     "execution_count": 9,
     "metadata": {},
     "output_type": "execute_result"
    }
   ],
   "source": [
    "np.eye(4)"
   ]
  },
  {
   "cell_type": "markdown",
   "id": "99a594b0",
   "metadata": {},
   "source": [
    "### 5. linspace() - to generate evenly spaced numbers over a specified interval. "
   ]
  },
  {
   "cell_type": "code",
   "execution_count": 10,
   "id": "bf0de1e3",
   "metadata": {},
   "outputs": [
    {
     "data": {
      "text/plain": [
       "array([0.        , 0.01010101, 0.02020202, 0.03030303, 0.04040404,\n",
       "       0.05050505, 0.06060606, 0.07070707, 0.08080808, 0.09090909,\n",
       "       0.1010101 , 0.11111111, 0.12121212, 0.13131313, 0.14141414,\n",
       "       0.15151515, 0.16161616, 0.17171717, 0.18181818, 0.19191919,\n",
       "       0.2020202 , 0.21212121, 0.22222222, 0.23232323, 0.24242424,\n",
       "       0.25252525, 0.26262626, 0.27272727, 0.28282828, 0.29292929,\n",
       "       0.3030303 , 0.31313131, 0.32323232, 0.33333333, 0.34343434,\n",
       "       0.35353535, 0.36363636, 0.37373737, 0.38383838, 0.39393939,\n",
       "       0.4040404 , 0.41414141, 0.42424242, 0.43434343, 0.44444444,\n",
       "       0.45454545, 0.46464646, 0.47474747, 0.48484848, 0.49494949,\n",
       "       0.50505051, 0.51515152, 0.52525253, 0.53535354, 0.54545455,\n",
       "       0.55555556, 0.56565657, 0.57575758, 0.58585859, 0.5959596 ,\n",
       "       0.60606061, 0.61616162, 0.62626263, 0.63636364, 0.64646465,\n",
       "       0.65656566, 0.66666667, 0.67676768, 0.68686869, 0.6969697 ,\n",
       "       0.70707071, 0.71717172, 0.72727273, 0.73737374, 0.74747475,\n",
       "       0.75757576, 0.76767677, 0.77777778, 0.78787879, 0.7979798 ,\n",
       "       0.80808081, 0.81818182, 0.82828283, 0.83838384, 0.84848485,\n",
       "       0.85858586, 0.86868687, 0.87878788, 0.88888889, 0.8989899 ,\n",
       "       0.90909091, 0.91919192, 0.92929293, 0.93939394, 0.94949495,\n",
       "       0.95959596, 0.96969697, 0.97979798, 0.98989899, 1.        ])"
      ]
     },
     "execution_count": 10,
     "metadata": {},
     "output_type": "execute_result"
    }
   ],
   "source": [
    "np.linspace(0,1,100)"
   ]
  },
  {
   "cell_type": "markdown",
   "id": "fa31db8c",
   "metadata": {},
   "source": [
    "### 6. reshape() - It changes the dimension of array \n"
   ]
  },
  {
   "cell_type": "code",
   "execution_count": 11,
   "id": "a33e5214",
   "metadata": {},
   "outputs": [
    {
     "data": {
      "text/plain": [
       "array([ 1,  2,  3,  4,  5,  6,  7,  8,  9, 10, 11, 12, 13, 14, 15])"
      ]
     },
     "execution_count": 11,
     "metadata": {},
     "output_type": "execute_result"
    }
   ],
   "source": [
    "arr= np.arange(1,16)\n",
    "arr"
   ]
  },
  {
   "cell_type": "code",
   "execution_count": 12,
   "id": "e5ee8883",
   "metadata": {},
   "outputs": [
    {
     "data": {
      "text/plain": [
       "array([[ 1,  2,  3,  4,  5],\n",
       "       [ 6,  7,  8,  9, 10],\n",
       "       [11, 12, 13, 14, 15]])"
      ]
     },
     "execution_count": 12,
     "metadata": {},
     "output_type": "execute_result"
    }
   ],
   "source": [
    "arr.reshape(3,5)"
   ]
  },
  {
   "cell_type": "markdown",
   "id": "dcd62057",
   "metadata": {},
   "source": [
    "### 7. min() and max() methods on arrays"
   ]
  },
  {
   "cell_type": "code",
   "execution_count": 13,
   "id": "a141f010",
   "metadata": {},
   "outputs": [
    {
     "data": {
      "text/plain": [
       "15"
      ]
     },
     "execution_count": 13,
     "metadata": {},
     "output_type": "execute_result"
    }
   ],
   "source": [
    "arr.max()"
   ]
  },
  {
   "cell_type": "code",
   "execution_count": 14,
   "id": "416b38f4",
   "metadata": {},
   "outputs": [
    {
     "data": {
      "text/plain": [
       "1"
      ]
     },
     "execution_count": 14,
     "metadata": {},
     "output_type": "execute_result"
    }
   ],
   "source": [
    "arr.min()"
   ]
  },
  {
   "cell_type": "code",
   "execution_count": 15,
   "id": "bbed764b",
   "metadata": {},
   "outputs": [
    {
     "data": {
      "text/plain": [
       "14"
      ]
     },
     "execution_count": 15,
     "metadata": {},
     "output_type": "execute_result"
    }
   ],
   "source": [
    "arr.argmax() # it returns index value of max element"
   ]
  },
  {
   "cell_type": "markdown",
   "id": "ee879805",
   "metadata": {},
   "source": [
    "### 8. dtype() - to get datatype of array"
   ]
  },
  {
   "cell_type": "code",
   "execution_count": 16,
   "id": "768f4149",
   "metadata": {},
   "outputs": [
    {
     "data": {
      "text/plain": [
       "dtype('int64')"
      ]
     },
     "execution_count": 16,
     "metadata": {},
     "output_type": "execute_result"
    }
   ],
   "source": [
    "arr.dtype"
   ]
  },
  {
   "cell_type": "markdown",
   "id": "3105121c",
   "metadata": {},
   "source": [
    "### 9. random module"
   ]
  },
  {
   "cell_type": "code",
   "execution_count": 17,
   "id": "cc114ddc",
   "metadata": {},
   "outputs": [
    {
     "data": {
      "text/plain": [
       "array([0.87872136, 0.81625519, 0.07247598, 0.43859111, 0.6490687 ])"
      ]
     },
     "execution_count": 17,
     "metadata": {},
     "output_type": "execute_result"
    }
   ],
   "source": [
    "np.random.rand(5)"
   ]
  },
  {
   "cell_type": "code",
   "execution_count": 18,
   "id": "6a187b70",
   "metadata": {},
   "outputs": [
    {
     "data": {
      "text/plain": [
       "array([[0.06252744, 0.90909601, 0.9945252 , 0.97198251, 0.55021319],\n",
       "       [0.46475112, 0.36483885, 0.98340278, 0.78871029, 0.79768934],\n",
       "       [0.27420923, 0.37889864, 0.13928105, 0.10682824, 0.46213929],\n",
       "       [0.04127559, 0.93323464, 0.75608758, 0.45401346, 0.71536513],\n",
       "       [0.63813447, 0.98395895, 0.06573721, 0.36417306, 0.28745334]])"
      ]
     },
     "execution_count": 18,
     "metadata": {},
     "output_type": "execute_result"
    }
   ],
   "source": [
    "np.random.rand(5,5)"
   ]
  },
  {
   "cell_type": "code",
   "execution_count": 19,
   "id": "ae21d123",
   "metadata": {},
   "outputs": [
    {
     "data": {
      "text/plain": [
       "array([[ 0.4443884 , -2.52701384,  0.78549518,  0.63378295],\n",
       "       [-1.17557148, -0.23726883, -0.17219018,  0.76311058],\n",
       "       [-0.05312551,  0.36463526, -1.41170246, -1.6306758 ],\n",
       "       [-1.08675342, -0.11019095, -0.40017519,  0.33447072]])"
      ]
     },
     "execution_count": 19,
     "metadata": {},
     "output_type": "execute_result"
    }
   ],
   "source": [
    "np.random.randn(4,4)"
   ]
  },
  {
   "cell_type": "code",
   "execution_count": 20,
   "id": "44bf38cb",
   "metadata": {},
   "outputs": [
    {
     "data": {
      "text/plain": [
       "array([23, 24, 10, 90, 48, 57,  7,  6, 82, 90])"
      ]
     },
     "execution_count": 20,
     "metadata": {},
     "output_type": "execute_result"
    }
   ],
   "source": [
    "np.random.randint(1,100,10)"
   ]
  },
  {
   "cell_type": "markdown",
   "id": "a0a6f2a4",
   "metadata": {},
   "source": [
    "### 10. matmul() or @ operator - for matrix multiplication."
   ]
  },
  {
   "cell_type": "code",
   "execution_count": 25,
   "id": "10ac8d43",
   "metadata": {},
   "outputs": [],
   "source": [
    "arr1=np.arange(1,10).reshape(3,3)\n",
    "arr2=np.arange(11,20).reshape(3,3)\n",
    "What is Numpy?\n"
   ]
  },
  {
   "cell_type": "code",
   "execution_count": 26,
   "id": "a1e8ff03",
   "metadata": {},
   "outputs": [
    {
     "data": {
      "text/plain": [
       "array([[ 90,  96, 102],\n",
       "       [216, 231, 246],\n",
       "       [342, 366, 390]])"
      ]
     },
     "execution_count": 26,
     "metadata": {},
     "output_type": "execute_result"
    }
   ],
   "source": [
    "np.matmul(arr1,arr2)"
   ]
  },
  {
   "cell_type": "code",
   "execution_count": 27,
   "id": "4905740c",
   "metadata": {},
   "outputs": [
    {
     "data": {
      "text/plain": [
       "array([[ 90,  96, 102],\n",
       "       [216, 231, 246],\n",
       "       [342, 366, 390]])"
      ]
     },
     "execution_count": 27,
     "metadata": {},
     "output_type": "execute_result"
    }
   ],
   "source": [
    "arr1 @ arr2"
   ]
  },
  {
   "cell_type": "markdown",
   "id": "337de107",
   "metadata": {},
   "source": [
    "<h1 align=\"center\">Numpy Indexing & Selection</h1> \n"
   ]
  },
  {
   "cell_type": "code",
   "execution_count": null,
   "id": "e0e1ffc6",
   "metadata": {},
   "outputs": [],
   "source": [
    "arr=np.arange(1,11)\n",
    "arr"
   ]
  },
  {
   "cell_type": "code",
   "execution_count": null,
   "id": "d5bd3ddb",
   "metadata": {},
   "outputs": [],
   "source": [
    "arr[0] # indexing with place"
   ]
  },
  {
   "cell_type": "code",
   "execution_count": null,
   "id": "03444b86",
   "metadata": {},
   "outputs": [],
   "source": [
    "arr[0:5] # indexing with start, stop"
   ]
  },
  {
   "cell_type": "code",
   "execution_count": null,
   "id": "fa207359",
   "metadata": {},
   "outputs": [],
   "source": [
    "arr[:] # indexing from star to end"
   ]
  },
  {
   "cell_type": "code",
   "execution_count": null,
   "id": "7c733644",
   "metadata": {},
   "outputs": [],
   "source": [
    "arr[5::2] # indexing from 5 to end with step=2"
   ]
  },
  {
   "cell_type": "code",
   "execution_count": null,
   "id": "bde46c97",
   "metadata": {},
   "outputs": [],
   "source": [
    "arr[0:5]=100 # broadcasting on arrays\n",
    "arr"
   ]
  },
  {
   "cell_type": "markdown",
   "id": "95d22125",
   "metadata": {},
   "source": [
    "### # Slice affects actual array can be seen below - \n",
    "\n",
    "<div class=\"alert alert-block alert-warning\">\n",
    "<b>Reason:</b> numpy do this is, because of memmory issues with very large arrays it don't make copies of array automatically.\n",
    "</div>"
   ]
  },
  {
   "cell_type": "code",
   "execution_count": null,
   "id": "ab2529e7",
   "metadata": {},
   "outputs": [],
   "source": [
    "slice_of_arr=arr[0:6]\n",
    "slice_of_arr"
   ]
  },
  {
   "cell_type": "code",
   "execution_count": null,
   "id": "a4c9978a",
   "metadata": {},
   "outputs": [],
   "source": [
    "arr # actual arr"
   ]
  },
  {
   "cell_type": "code",
   "execution_count": null,
   "id": "a6685655",
   "metadata": {},
   "outputs": [],
   "source": [
    "slice_of_arr[:]=99"
   ]
  },
  {
   "cell_type": "code",
   "execution_count": null,
   "id": "96a595b1",
   "metadata": {},
   "outputs": [],
   "source": [
    "arr #arr got changed as seen"
   ]
  },
  {
   "cell_type": "markdown",
   "id": "991de52d",
   "metadata": {},
   "source": [
    "### # To avoid that we use copy() method specifically."
   ]
  },
  {
   "cell_type": "code",
   "execution_count": null,
   "id": "e6d95699",
   "metadata": {},
   "outputs": [],
   "source": [
    "arr_copy= arr.copy()\n",
    "arr_copy"
   ]
  },
  {
   "cell_type": "code",
   "execution_count": null,
   "id": "ed9662ec",
   "metadata": {},
   "outputs": [],
   "source": [
    "arr_copy[:]=101\n",
    "arr_copy"
   ]
  },
  {
   "cell_type": "code",
   "execution_count": null,
   "id": "a036ed31",
   "metadata": {},
   "outputs": [],
   "source": [
    "arr # actual array didn't changed"
   ]
  },
  {
   "cell_type": "markdown",
   "id": "6b2d8b18",
   "metadata": {},
   "source": [
    "### # Indexing of a 2-D array."
   ]
  },
  {
   "cell_type": "code",
   "execution_count": null,
   "id": "f18c9163",
   "metadata": {},
   "outputs": [],
   "source": [
    "arr_2d=np.arange(1,13).reshape(3,4)\n",
    "arr_2d"
   ]
  },
  {
   "cell_type": "code",
   "execution_count": null,
   "id": "48464257",
   "metadata": {},
   "outputs": [],
   "source": [
    "arr_2d[0][1] # array indexing using dounle braces."
   ]
  },
  {
   "cell_type": "code",
   "execution_count": null,
   "id": "3b9085d0",
   "metadata": {},
   "outputs": [],
   "source": [
    "arr_2d[0,1] # array indexing using single braces."
   ]
  },
  {
   "cell_type": "markdown",
   "id": "aa07e52c",
   "metadata": {},
   "source": [
    "### # Important slicing to grab sub-section of  2-D matrix."
   ]
  },
  {
   "cell_type": "code",
   "execution_count": null,
   "id": "f8fff0be",
   "metadata": {},
   "outputs": [],
   "source": [
    "arr_2d[:2,2:4] "
   ]
  },
  {
   "cell_type": "code",
   "execution_count": null,
   "id": "83deced4",
   "metadata": {},
   "outputs": [],
   "source": [
    "arr_2d[0:1]  # 1st row"
   ]
  },
  {
   "cell_type": "code",
   "execution_count": null,
   "id": "b46dfbfd",
   "metadata": {},
   "outputs": [],
   "source": [
    "arr_2d[:,0:1] # 1st column"
   ]
  },
  {
   "cell_type": "markdown",
   "id": "ad6d50be",
   "metadata": {},
   "source": [
    "### # Conditional selection or slicing"
   ]
  },
  {
   "cell_type": "code",
   "execution_count": null,
   "id": "d8030af7",
   "metadata": {},
   "outputs": [],
   "source": [
    "arr=np.arange(0,15)\n",
    "arr"
   ]
  },
  {
   "cell_type": "code",
   "execution_count": null,
   "id": "be449a3e",
   "metadata": {},
   "outputs": [],
   "source": [
    "arr>5 # gives a bool array"
   ]
  },
  {
   "cell_type": "code",
   "execution_count": null,
   "id": "a45b976c",
   "metadata": {},
   "outputs": [],
   "source": [
    "exp=arr>5"
   ]
  },
  {
   "cell_type": "code",
   "execution_count": null,
   "id": "e25e3365",
   "metadata": {},
   "outputs": [],
   "source": [
    "arr[exp] # filters array element"
   ]
  },
  {
   "cell_type": "code",
   "execution_count": null,
   "id": "50db32c3",
   "metadata": {},
   "outputs": [],
   "source": [
    "arr"
   ]
  },
  {
   "cell_type": "code",
   "execution_count": null,
   "id": "e77e571a",
   "metadata": {},
   "outputs": [],
   "source": [
    "arr[arr>3] # better way to write without variable"
   ]
  },
  {
   "cell_type": "markdown",
   "id": "88139263",
   "metadata": {},
   "source": [
    "<h1 align=\"center\">Numpy Operations</h1> \n",
    "\n",
    "- **Array with Array** \n",
    "- **Array with scalar** \n",
    "- **Universal array functions. (ufunc)**"
   ]
  },
  {
   "cell_type": "markdown",
   "id": "518d710f",
   "metadata": {},
   "source": [
    "### # Array with Array"
   ]
  },
  {
   "cell_type": "code",
   "execution_count": null,
   "id": "b1046eb6",
   "metadata": {},
   "outputs": [],
   "source": [
    "arr=np.arange(1,11)\n"
   ]
  },
  {
   "cell_type": "code",
   "execution_count": null,
   "id": "58e7b417",
   "metadata": {},
   "outputs": [],
   "source": [
    "arr+arr"
   ]
  },
  {
   "cell_type": "code",
   "execution_count": null,
   "id": "44cc674b",
   "metadata": {},
   "outputs": [],
   "source": [
    "arr*arr"
   ]
  },
  {
   "cell_type": "code",
   "execution_count": null,
   "id": "612bdb24",
   "metadata": {},
   "outputs": [],
   "source": [
    "arr-arr"
   ]
  },
  {
   "cell_type": "code",
   "execution_count": null,
   "id": "ad50b971",
   "metadata": {},
   "outputs": [],
   "source": [
    "arr+100 #array with scalar"
   ]
  },
  {
   "cell_type": "code",
   "execution_count": null,
   "id": "d43f7639",
   "metadata": {},
   "outputs": [],
   "source": [
    "arr/arr"
   ]
  },
  {
   "cell_type": "code",
   "execution_count": null,
   "id": "12fd28e0",
   "metadata": {},
   "outputs": [],
   "source": [
    "arr/0"
   ]
  },
  {
   "cell_type": "markdown",
   "id": "6a7cb89b",
   "metadata": {},
   "source": [
    "<div class=\"alert alert-block alert-danger\">\n",
    "<b>Error:</b> In general, anything divided by 0 will give pyhton error. However, numpy will not give error instead will give a warning and execute further as above and \"inf\" means infinity.\n",
    "</div>"
   ]
  },
  {
   "cell_type": "code",
   "execution_count": null,
   "id": "c8a25489",
   "metadata": {},
   "outputs": [],
   "source": [
    "np.sqrt(arr)  #universal array functions "
   ]
  },
  {
   "cell_type": "code",
   "execution_count": null,
   "id": "6a670df9",
   "metadata": {},
   "outputs": [],
   "source": [
    "np.exp(arr) # calculate exponential"
   ]
  },
  {
   "cell_type": "code",
   "execution_count": null,
   "id": "d7491a58",
   "metadata": {},
   "outputs": [],
   "source": [
    "np.max(arr) # to get max element in array"
   ]
  },
  {
   "cell_type": "markdown",
   "id": "538443e7",
   "metadata": {},
   "source": [
    "@numpy notes by rajveer mehta"
   ]
  },
  {
   "cell_type": "markdown",
   "id": "4c2ced40",
   "metadata": {},
   "source": []
  },
  {
   "cell_type": "markdown",
   "id": "7017aa32",
   "metadata": {},
   "source": []
  },
  {
   "cell_type": "markdown",
   "id": "de98860c",
   "metadata": {},
   "source": [
    "Review Questions to Check Your Comprehension\n",
    "Try answering the following questions to test your understanding of the topics covered in this notebook:\n",
    "\n",
    "1, What is a vector?\n",
    "2, How do you represent vectors using a Python list? Give an example.\n",
    "3, What is a dot product of two vectors?\n",
    "4, Write a function to compute the dot product of two vectors.\n",
    "5, What is Numpy?\n",
    "6, How do you install Numpy?\n",
    "7, How do you import the numpy module?\n",
    "8, What does it mean to import a module with an alias? Give an example.\n",
    "9, What is the commonly used alias for numpy?\n",
    "10, What is a Numpy array?\n",
    "11, How do you create a Numpy array? Give an example.\n",
    "12, What is the type of Numpy arrays?\n",
    "13, How do you access the elements of a Numpy array?\n",
    "14, How do you compute the dot product of two vectors using Numpy?\n",
    "15, What happens if you try to compute the dot product of two vectors which have different sizes?\n",
    "16, How do you compute the element-wise product of two Numpy arrays?\n",
    "17, How do you compute the sum of all the elements in a Numpy array?\n",
    "18, What are the benefits of using Numpy arrays over Python lists for operating on numerical data?\n",
    "19, Why do Numpy array operations have better performance compared to Python functions and loops?\n",
    "20, Illustrate the performance difference between Numpy array operations and Python loops using an example.\n",
    "21, What are multi-dimensional Numpy arrays?\n",
    "22, Illustrate how you'd create Numpy arrays with 2, 3, and 4 dimensions.\n",
    "23, How do you inspect the number of dimensions and the length along each dimension in a Numpy array?\n",
    "24, Can the elements of a Numpy array have different data types?\n",
    "25, How do you check the data types of the elements of a Numpy array?\n",
    "26, What is the data type of a Numpy array?\n",
    "27, What is the difference between a matrix and a 2D Numpy array?\n",
    "28, How do you perform matrix multiplication using Numpy?\n",
    "29, What is the @ operator used for in Numpy?\n",
    "30, What is the CSV file format?\n",
    "31, How do you read data from a CSV file using Numpy?\n",
    "32, How do you concatenate two Numpy arrays?\n",
    "33, What is the purpose of the axis argument of np.concatenate?\n",
    "34, When are two Numpy arrays compatible for concatenation?\n",
    "35, Give an example of two Numpy arrays that can be concatenated.\n",
    "36, Give an example of two Numpy arrays that cannot be concatenated.\n",
    "37, What is the purpose of the np.reshape function?\n",
    "38, What does it mean to “reshape” a Numpy array?\n",
    "39, How do you write a numpy array into a CSV file?\n",
    "40, Give some examples of Numpy functions for performing mathematical operations.\n",
    "41, Give some examples of Numpy functions for performing array manipulation.\n",
    "42, Give some examples of Numpy functions for performing linear algebra.\n",
    "43, Give some examples of Numpy functions for performing statistical operations.\n",
    "44, How do you find the right Numpy function for a specific operation or use case?\n",
    "45, Where can you see a list of all the Numpy array functions and operations?\n",
    "46, What are the arithmetic operators supported by Numpy arrays? Illustrate with examples.\n",
    "47, What is array broadcasting? How is it useful? Illustrate with an example.\n",
    "48, Give some examples of arrays that are compatible for broadcasting.\n",
    "49, Give some examples of arrays that are not compatible for broadcasting.\n",
    "50, What are the comparison operators supported by Numpy arrays? Illustrate with examples.\n",
    "51, How do you access a specific subarray or slice from a Numpy array?\n",
    "52, Illustrate array indexing and slicing in multi-dimensional Numpy arrays with some examples.\n",
    "53, How do you create a Numpy array with a given shape containing all zeros?\n",
    "54, How do you create a Numpy array with a given shape containing all ones?\n",
    "55, How do you create an identity matrix of a given shape?\n",
    "56, How do you create a random vector of a given length?\n",
    "57, How do you create a Numpy array with a given shape with a fixed value for each element?\n",
    "58, How do you create a Numpy array with a given shape containing randomly initialized elements?\n",
    "59, What is the difference between np.random.rand and np.random.randn? Illustrate with examples.\n",
    "60, What is the difference between np.arange and np.linspace? Illustrate with examples."
   ]
  }
 ],
 "metadata": {
  "kernelspec": {
   "display_name": "Python 3",
   "language": "python",
   "name": "python3"
  },
  "language_info": {
   "codemirror_mode": {
    "name": "ipython",
    "version": 3
   },
   "file_extension": ".py",
   "mimetype": "text/x-python",
   "name": "python",
   "nbconvert_exporter": "python",
   "pygments_lexer": "ipython3",
   "version": "3.6.9"
  }
 },
 "nbformat": 4,
 "nbformat_minor": 5
}
